{
  "nbformat": 4,
  "nbformat_minor": 0,
  "metadata": {
    "colab": {
      "provenance": [],
      "include_colab_link": true
    },
    "kernelspec": {
      "name": "python3",
      "display_name": "Python 3"
    },
    "language_info": {
      "name": "python"
    }
  },
  "cells": [
    {
      "cell_type": "markdown",
      "metadata": {
        "id": "view-in-github",
        "colab_type": "text"
      },
      "source": [
        "<a href=\"https://colab.research.google.com/github/mjiaxiang/VisionRail/blob/main/24678_Final_Project.ipynb\" target=\"_parent\"><img src=\"https://colab.research.google.com/assets/colab-badge.svg\" alt=\"Open In Colab\"/></a>"
      ]
    },
    {
      "cell_type": "code",
      "source": [
        "# import images from Google Drive\n",
        "from google.colab import drive\n",
        "drive.mount('/content/drive')\n",
        "\n",
        "# need to adapt this part to our project\n",
        "! cp /content/drive/Shareddrives/CelebA/img_align_celeba.zip /content\n",
        "! cp /content/drive/Shareddrives/CelebA/list_attr_celeba.txt /content\n",
        "# from path will differ depending on where you saved the zip file in Google Drive\n",
        "! unzip -DD -q  /content/img_align_celeba.zip -d  /content/\n",
        "! cp /content/list_attr_celeba.txt /content/img_align_celeba\n"
      ],
      "metadata": {
        "id": "N1IppWo3DzMm"
      },
      "execution_count": null,
      "outputs": []
    },
    {
      "cell_type": "code",
      "execution_count": null,
      "metadata": {
        "id": "HPqiMvM9C-iz"
      },
      "outputs": [],
      "source": [
        "import cv2 as cv\n",
        "import numpy as np\n",
        "\n",
        "# Open images\n",
        "\n",
        "# Convert image to grayscale\n",
        "\n",
        "# Apply mask to image\n",
        "\n",
        "# Normalize image\n",
        "\n",
        "# Perform background subtraction\n",
        "\n",
        "# Draw contour\n",
        "\n",
        "# Classify objects Kaifeng Hu\n",
        "\n",
        "# Display images"
      ]
    },
    {
      "cell_type": "markdown",
      "source": [],
      "metadata": {
        "id": "6NYHinyKDGTg"
      }
    }
  ]
}